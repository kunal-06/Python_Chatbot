{
 "cells": [
  {
   "cell_type": "code",
   "execution_count": 2,
   "id": "63daa4e0-05b7-4f5f-b0b0-691e94e416d0",
   "metadata": {},
   "outputs": [],
   "source": [
    "import pandas as pd\n",
    "import spacy\n",
    "from spacy.lang.en.stop_words import STOP_WORDS\n",
    "nlp = spacy.load(\"en_core_web_sm\", disable=[\"parser\", \"ner\"])\n",
    "from sklearn.feature_extraction.text import TfidfVectorizer\n",
    "from sklearn.metrics.pairwise import cosine_similarity\n",
    "import numpy as np \n"
   ]
  },
  {
   "cell_type": "code",
   "execution_count": null,
   "id": "5f48972f",
   "metadata": {},
   "outputs": [],
   "source": [
    "# train.csv file is not avaliable in github beacuse of file size issue,\n",
    "# the pre-processed file is save in as processed_data\n",
    "data = pd.read_csv(\"train.csv\")"
   ]
  },
  {
   "cell_type": "code",
   "execution_count": null,
   "id": "4540c63d",
   "metadata": {},
   "outputs": [],
   "source": [
    "data.shape"
   ]
  },
  {
   "cell_type": "code",
   "execution_count": null,
   "id": "4b54bcdf",
   "metadata": {},
   "outputs": [],
   "source": [
    "data.head(10)"
   ]
  },
  {
   "cell_type": "code",
   "execution_count": null,
   "id": "6b71cb38-8207-4698-a082-8e41db1841f3",
   "metadata": {},
   "outputs": [],
   "source": [
    "def preprocess_text(text):\n",
    "    doc = nlp(text.lower())\n",
    "    tokens = [token.text for token in doc if not token.is_stop]\n",
    "    return \" \".join(tokens)"
   ]
  },
  {
   "cell_type": "code",
   "execution_count": null,
   "id": "b06bc0c5-73b5-472e-97b7-7b34fcc050a5",
   "metadata": {},
   "outputs": [],
   "source": [
    "data['processed_question'] = data.question.apply(preprocess_text) \n",
    "\n",
    "#drop unnessacery columns\n",
    "data = data.drop(data.columns[[0,2]], axis=1)\n",
    "\n",
    "#file is divided beacuse of github file size issue,\n",
    "df_1 = data.iloc[:45000,:]\n",
    "df_2 = data.iloc[45000:90000,:]\n",
    "df_3 = data.iloc[90000:,:]\n",
    "\n",
    "df_1.to_csv('processed_data_part1.csv')\n",
    "df_2.to_csv('processed_data_part2.csv')\n",
    "df_3.to_csv('processed_data_part3.csv')"
   ]
  }
 ],
 "metadata": {
  "kernelspec": {
   "display_name": "Python 3 (ipykernel)",
   "language": "python",
   "name": "python3"
  },
  "language_info": {
   "codemirror_mode": {
    "name": "ipython",
    "version": 3
   },
   "file_extension": ".py",
   "mimetype": "text/x-python",
   "name": "python",
   "nbconvert_exporter": "python",
   "pygments_lexer": "ipython3",
   "version": "3.12.4"
  }
 },
 "nbformat": 4,
 "nbformat_minor": 5
}
